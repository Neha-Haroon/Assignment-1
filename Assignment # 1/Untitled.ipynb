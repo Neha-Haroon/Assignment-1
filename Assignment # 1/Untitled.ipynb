{
 "cells": [
  {
   "cell_type": "code",
   "execution_count": 1,
   "id": "fa3dd953",
   "metadata": {},
   "outputs": [
    {
     "name": "stdout",
     "output_type": "stream",
     "text": [
      "Twinkle, twinkle, little star,\n",
      "\tHow I wonder what you are!\n",
      "\t\tUp above the world so high,\n",
      "\t\tLike a diamond in the sky.\n",
      "Twinkle, twinkle, little star,\n",
      "\tHow I wonder what you are\n"
     ]
    }
   ],
   "source": [
    "print(\"Twinkle, twinkle, little star,\")\n",
    "print(\"\\tHow I wonder what you are!\")\n",
    "print(\"\\t\\tUp above the world so high,\")\n",
    "print(\"\\t\\tLike a diamond in the sky.\")\n",
    "print(\"Twinkle, twinkle, little star,\")\n",
    "print(\"\\tHow I wonder what you are\")"
   ]
  },
  {
   "cell_type": "code",
   "execution_count": 4,
   "id": "34c4872a",
   "metadata": {},
   "outputs": [
    {
     "name": "stdout",
     "output_type": "stream",
     "text": [
      "date and time = 01/01/2022 23:49:05\n"
     ]
    }
   ],
   "source": [
    "from datetime import datetime\n",
    "\n",
    "now = datetime.now()\n",
    "\n",
    "dt_string = now.strftime(\"%d/%m/%Y %H:%M:%S\")\n",
    "print(\"date and time =\", dt_string)\t\n"
   ]
  },
  {
   "cell_type": "code",
   "execution_count": 5,
   "id": "4d5585c7",
   "metadata": {},
   "outputs": [
    {
     "name": "stdout",
     "output_type": "stream",
     "text": [
      "Python version used: 3.9.7 (default, Sep 16 2021, 16:59:28) [MSC v.1916 64 bit (AMD64)]\n"
     ]
    }
   ],
   "source": [
    "import sys\n",
    "print (\"Python version used: \" + sys.version)"
   ]
  },
  {
   "cell_type": "code",
   "execution_count": 9,
   "id": "cb45b553",
   "metadata": {},
   "outputs": [
    {
     "name": "stdout",
     "output_type": "stream",
     "text": [
      "Enter Radius:  5\n",
      "Area of circle =  78.53981633974483\n"
     ]
    }
   ],
   "source": [
    "import math\n",
    "\n",
    "radius = int(input(\"Enter Radius:  \"))\n",
    "area = math.pi*radius*radius\n",
    "print (\"Area of circle = \", area)"
   ]
  },
  {
   "cell_type": "code",
   "execution_count": 12,
   "id": "5c9966a3",
   "metadata": {},
   "outputs": [
    {
     "name": "stdout",
     "output_type": "stream",
     "text": [
      "Enter First name : Neha\n",
      "Enter last name : Haroon\n",
      "Reversed name: nooraH aheN\n"
     ]
    }
   ],
   "source": [
    "def reverseName(inpname):\n",
    "    revName = \"\"\n",
    "    for i in inpname:\n",
    "        revName = i + revName\n",
    "    return (revName)\n",
    "\n",
    "firstName = str(input(\"Enter First name : \"))\n",
    "lastName = str(input(\"Enter last name : \"))\n",
    "fullName = firstName + \" \" + lastName\n",
    "print (\"Reversed name: \" + reverseName(fullName))"
   ]
  },
  {
   "cell_type": "code",
   "execution_count": 15,
   "id": "6bd92ceb",
   "metadata": {},
   "outputs": [
    {
     "name": "stdout",
     "output_type": "stream",
     "text": [
      "Enter First Num:5\n",
      "Enter Second Num:5\n",
      "Addition:  10\n"
     ]
    }
   ],
   "source": [
    "a = int(input(\"Enter First Num:\"))\n",
    "b = int(input(\"Enter Second Num:\"))\n",
    "c= a+b\n",
    "print (\"Addition: \" ,c)\n"
   ]
  },
  {
   "cell_type": "code",
   "execution_count": null,
   "id": "f91acd69",
   "metadata": {},
   "outputs": [],
   "source": []
  }
 ],
 "metadata": {
  "kernelspec": {
   "display_name": "Python 3 (ipykernel)",
   "language": "python",
   "name": "python3"
  },
  "language_info": {
   "codemirror_mode": {
    "name": "ipython",
    "version": 3
   },
   "file_extension": ".py",
   "mimetype": "text/x-python",
   "name": "python",
   "nbconvert_exporter": "python",
   "pygments_lexer": "ipython3",
   "version": "3.9.7"
  }
 },
 "nbformat": 4,
 "nbformat_minor": 5
}
